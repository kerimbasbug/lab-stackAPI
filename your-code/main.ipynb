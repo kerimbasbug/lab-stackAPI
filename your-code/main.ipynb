{
 "cells": [
  {
   "cell_type": "markdown",
   "metadata": {},
   "source": [
    "# StackAPI\n",
    "\n",
    "#### Import the necessary libraries here:"
   ]
  },
  {
   "cell_type": "code",
   "execution_count": 1,
   "metadata": {},
   "outputs": [],
   "source": [
    "import sys"
   ]
  },
  {
   "cell_type": "code",
   "execution_count": 2,
   "metadata": {},
   "outputs": [
    {
     "name": "stdout",
     "output_type": "stream",
     "text": [
      "Requirement already satisfied: stackapi in /usr/local/lib/python3.7/site-packages (0.1.12)\n",
      "Requirement already satisfied: requests in /usr/local/lib/python3.7/site-packages (from stackapi) (2.22.0)\n",
      "Requirement already satisfied: chardet<3.1.0,>=3.0.2 in /usr/local/lib/python3.7/site-packages (from requests->stackapi) (3.0.4)\n",
      "Requirement already satisfied: urllib3!=1.25.0,!=1.25.1,<1.26,>=1.21.1 in /usr/local/lib/python3.7/site-packages (from requests->stackapi) (1.25.3)\n",
      "Requirement already satisfied: idna<2.9,>=2.5 in /usr/local/lib/python3.7/site-packages (from requests->stackapi) (2.8)\n",
      "Requirement already satisfied: certifi>=2017.4.17 in /usr/local/lib/python3.7/site-packages (from requests->stackapi) (2019.6.16)\n"
     ]
    }
   ],
   "source": [
    "!{sys.executable} -m pip install stackapi"
   ]
  },
  {
   "cell_type": "code",
   "execution_count": 6,
   "metadata": {},
   "outputs": [],
   "source": [
    "# your code here\n",
    "\n",
    "from stackapi import StackAPI\n",
    "from datetime import datetime"
   ]
  },
  {
   "cell_type": "markdown",
   "metadata": {},
   "source": [
    "#### Question 1: Find the questions and answers of last month."
   ]
  },
  {
   "cell_type": "code",
   "execution_count": 15,
   "metadata": {},
   "outputs": [
    {
     "ename": "StackAPIError",
     "evalue": "('https://api.stackexchange.com/2.2/questions/?pagesize=100&page=1&filter=default&fromdate=1560384000&todate=1560470400&sort=votes&site=stackoverflow', 502, 'throttle_violation', 'Violation of backoff parameter')",
     "output_type": "error",
     "traceback": [
      "\u001b[0;31m---------------------------------------------------------------------------\u001b[0m",
      "\u001b[0;31mStackAPIError\u001b[0m                             Traceback (most recent call last)",
      "\u001b[0;32m<ipython-input-15-6ae1f544de85>\u001b[0m in \u001b[0;36m<module>\u001b[0;34m\u001b[0m\n\u001b[1;32m      1\u001b[0m \u001b[0;31m# your code here\u001b[0m\u001b[0;34m\u001b[0m\u001b[0;34m\u001b[0m\u001b[0;34m\u001b[0m\u001b[0m\n\u001b[1;32m      2\u001b[0m \u001b[0mSITE\u001b[0m \u001b[0;34m=\u001b[0m \u001b[0mStackAPI\u001b[0m\u001b[0;34m(\u001b[0m\u001b[0;34m\"stackoverflow\"\u001b[0m\u001b[0;34m)\u001b[0m\u001b[0;34m\u001b[0m\u001b[0;34m\u001b[0m\u001b[0m\n\u001b[0;32m----> 3\u001b[0;31m \u001b[0mquestions\u001b[0m \u001b[0;34m=\u001b[0m \u001b[0mSITE\u001b[0m\u001b[0;34m.\u001b[0m\u001b[0mfetch\u001b[0m\u001b[0;34m(\u001b[0m\u001b[0;34m'questions'\u001b[0m\u001b[0;34m,\u001b[0m \u001b[0mfromdate\u001b[0m\u001b[0;34m=\u001b[0m\u001b[0mdatetime\u001b[0m\u001b[0;34m(\u001b[0m\u001b[0;36m2019\u001b[0m\u001b[0;34m,\u001b[0m\u001b[0;36m6\u001b[0m\u001b[0;34m,\u001b[0m\u001b[0;36m13\u001b[0m\u001b[0;34m)\u001b[0m\u001b[0;34m,\u001b[0m \u001b[0mtodate\u001b[0m\u001b[0;34m=\u001b[0m\u001b[0mdatetime\u001b[0m\u001b[0;34m(\u001b[0m\u001b[0;36m2019\u001b[0m\u001b[0;34m,\u001b[0m\u001b[0;36m6\u001b[0m\u001b[0;34m,\u001b[0m\u001b[0;36m14\u001b[0m\u001b[0;34m)\u001b[0m\u001b[0;34m,\u001b[0m \u001b[0msort\u001b[0m\u001b[0;34m=\u001b[0m\u001b[0;34m'votes'\u001b[0m\u001b[0;34m)\u001b[0m\u001b[0;34m\u001b[0m\u001b[0;34m\u001b[0m\u001b[0m\n\u001b[0m\u001b[1;32m      4\u001b[0m \u001b[0manswers\u001b[0m \u001b[0;34m=\u001b[0m \u001b[0mSITE\u001b[0m\u001b[0;34m.\u001b[0m\u001b[0mfetch\u001b[0m\u001b[0;34m(\u001b[0m\u001b[0;34m'answers'\u001b[0m\u001b[0;34m,\u001b[0m \u001b[0mfromdate\u001b[0m\u001b[0;34m=\u001b[0m\u001b[0mdatetime\u001b[0m\u001b[0;34m(\u001b[0m\u001b[0;36m2019\u001b[0m\u001b[0;34m,\u001b[0m\u001b[0;36m6\u001b[0m\u001b[0;34m,\u001b[0m\u001b[0;36m13\u001b[0m\u001b[0;34m)\u001b[0m\u001b[0;34m,\u001b[0m \u001b[0mtodate\u001b[0m\u001b[0;34m=\u001b[0m\u001b[0mdatetime\u001b[0m\u001b[0;34m(\u001b[0m\u001b[0;36m2019\u001b[0m\u001b[0;34m,\u001b[0m\u001b[0;36m6\u001b[0m\u001b[0;34m,\u001b[0m\u001b[0;36m14\u001b[0m\u001b[0;34m)\u001b[0m\u001b[0;34m,\u001b[0m \u001b[0msort\u001b[0m\u001b[0;34m=\u001b[0m\u001b[0;34m'votes'\u001b[0m\u001b[0;34m)\u001b[0m\u001b[0;34m\u001b[0m\u001b[0;34m\u001b[0m\u001b[0m\n\u001b[1;32m      5\u001b[0m \u001b[0;34m\u001b[0m\u001b[0m\n",
      "\u001b[0;32m/usr/local/lib/python3.7/site-packages/stackapi/stackapi.py\u001b[0m in \u001b[0;36mfetch\u001b[0;34m(self, endpoint, page, key, filter, **kwargs)\u001b[0m\n\u001b[1;32m    196\u001b[0m                 \u001b[0mcode\u001b[0m \u001b[0;34m=\u001b[0m \u001b[0mresponse\u001b[0m\u001b[0;34m[\u001b[0m\u001b[0;34m\"error_name\"\u001b[0m\u001b[0;34m]\u001b[0m\u001b[0;34m\u001b[0m\u001b[0;34m\u001b[0m\u001b[0m\n\u001b[1;32m    197\u001b[0m                 \u001b[0mmessage\u001b[0m \u001b[0;34m=\u001b[0m \u001b[0mresponse\u001b[0m\u001b[0;34m[\u001b[0m\u001b[0;34m\"error_message\"\u001b[0m\u001b[0;34m]\u001b[0m\u001b[0;34m\u001b[0m\u001b[0;34m\u001b[0m\u001b[0m\n\u001b[0;32m--> 198\u001b[0;31m                 \u001b[0;32mraise\u001b[0m \u001b[0mStackAPIError\u001b[0m\u001b[0;34m(\u001b[0m\u001b[0mself\u001b[0m\u001b[0;34m.\u001b[0m\u001b[0m_previous_call\u001b[0m\u001b[0;34m,\u001b[0m \u001b[0merror\u001b[0m\u001b[0;34m,\u001b[0m \u001b[0mcode\u001b[0m\u001b[0;34m,\u001b[0m \u001b[0mmessage\u001b[0m\u001b[0;34m)\u001b[0m\u001b[0;34m\u001b[0m\u001b[0;34m\u001b[0m\u001b[0m\n\u001b[0m\u001b[1;32m    199\u001b[0m             \u001b[0;32mexcept\u001b[0m \u001b[0mKeyError\u001b[0m\u001b[0;34m:\u001b[0m\u001b[0;34m\u001b[0m\u001b[0;34m\u001b[0m\u001b[0m\n\u001b[1;32m    200\u001b[0m                 \u001b[0;32mpass\u001b[0m  \u001b[0;31m# This means there is no error\u001b[0m\u001b[0;34m\u001b[0m\u001b[0;34m\u001b[0m\u001b[0m\n",
      "\u001b[0;31mStackAPIError\u001b[0m: ('https://api.stackexchange.com/2.2/questions/?pagesize=100&page=1&filter=default&fromdate=1560384000&todate=1560470400&sort=votes&site=stackoverflow', 502, 'throttle_violation', 'Violation of backoff parameter')"
     ]
    }
   ],
   "source": [
    "# your code here\n",
    "SITE = StackAPI(\"stackoverflow\")\n",
    "questions = SITE.fetch('questions', fromdate=datetime(2019,6,13), todate=datetime(2019,6,14), sort='votes')\n",
    "answers = SITE.fetch('answers', fromdate=datetime(2019,6,13), todate=datetime(2019,6,14), sort='votes')\n"
   ]
  },
  {
   "cell_type": "markdown",
   "metadata": {},
   "source": [
    "#### Question 2: Find the most voted question today with at least a score of 5 and tagged with 'python'. "
   ]
  },
  {
   "cell_type": "code",
   "execution_count": 10,
   "metadata": {},
   "outputs": [
    {
     "data": {
      "text/plain": [
       "{'backoff': 0,\n",
       " 'has_more': False,\n",
       " 'page': 1,\n",
       " 'quota_max': 300,\n",
       " 'quota_remaining': 300,\n",
       " 'total': 0,\n",
       " 'items': [{'tags': ['python', 'python-3.x'],\n",
       "   'owner': {'reputation': 50,\n",
       "    'user_id': 10858005,\n",
       "    'user_type': 'registered',\n",
       "    'profile_image': 'https://www.gravatar.com/avatar/227e9b94e29de50392b573db2083e863?s=128&d=identicon&r=PG&f=1',\n",
       "    'display_name': 'ruggero.devita',\n",
       "    'link': 'https://stackoverflow.com/users/10858005/ruggero-devita'},\n",
       "   'is_answered': True,\n",
       "   'view_count': 132,\n",
       "   'closed_date': 1562945633,\n",
       "   'accepted_answer_id': 57009200,\n",
       "   'answer_count': 2,\n",
       "   'score': 8,\n",
       "   'last_activity_date': 1562942610,\n",
       "   'creation_date': 1562941534,\n",
       "   'question_id': 57008981,\n",
       "   'link': 'https://stackoverflow.com/questions/57008981/defining-a-python-dictionary-of-lambdas-through-a-for-cycle',\n",
       "   'closed_reason': 'duplicate',\n",
       "   'title': 'Defining a python dictionary of lambdas through a for cycle'},\n",
       "  {'tags': ['python', 'python-internals'],\n",
       "   'owner': {'reputation': 1204,\n",
       "    'user_id': 1779091,\n",
       "    'user_type': 'registered',\n",
       "    'accept_rate': 70,\n",
       "    'profile_image': 'https://www.gravatar.com/avatar/197ef437993b3a2a35874498d40a391d?s=128&d=identicon&r=PG',\n",
       "    'display_name': 'variable',\n",
       "    'link': 'https://stackoverflow.com/users/1779091/variable'},\n",
       "   'is_answered': True,\n",
       "   'view_count': 133,\n",
       "   'answer_count': 2,\n",
       "   'score': 6,\n",
       "   'last_activity_date': 1562940337,\n",
       "   'creation_date': 1562918298,\n",
       "   'last_edit_date': 1562920982,\n",
       "   'question_id': 57002606,\n",
       "   'link': 'https://stackoverflow.com/questions/57002606/is-string-internally-stored-as-individual-characters-each-character-in-memory-s',\n",
       "   'title': 'Is string internally stored as individual characters, each character in memory shared by other similar strings?'},\n",
       "  {'tags': ['python', 'pandas', 'dataframe'],\n",
       "   'owner': {'reputation': 53,\n",
       "    'user_id': 6452246,\n",
       "    'user_type': 'registered',\n",
       "    'profile_image': 'https://graph.facebook.com/1128876147155732/picture?type=large',\n",
       "    'display_name': 'Johny Dev',\n",
       "    'link': 'https://stackoverflow.com/users/6452246/johny-dev'},\n",
       "   'is_answered': True,\n",
       "   'view_count': 62,\n",
       "   'accepted_answer_id': 57037866,\n",
       "   'answer_count': 2,\n",
       "   'score': 5,\n",
       "   'last_activity_date': 1563196047,\n",
       "   'creation_date': 1562932272,\n",
       "   'last_edit_date': 1562939777,\n",
       "   'question_id': 57006437,\n",
       "   'link': 'https://stackoverflow.com/questions/57006437/calculate-rsi-indicator-from-pandas-dataframe',\n",
       "   'title': 'Calculate RSI indicator from pandas DataFrame?'}]}"
      ]
     },
     "execution_count": 10,
     "metadata": {},
     "output_type": "execute_result"
    }
   ],
   "source": [
    "# your code here\n",
    "que = SITE.fetch('questions', fromdate=datetime(2019,7,12), todate=datetime(2019,7,13), min=5, sort='votes', order='desc', tagged='python')\n",
    "que"
   ]
  },
  {
   "cell_type": "markdown",
   "metadata": {},
   "source": [
    "#### Question 3: Find the answers with id 6784 and 6473."
   ]
  },
  {
   "cell_type": "code",
   "execution_count": 11,
   "metadata": {},
   "outputs": [
    {
     "data": {
      "text/plain": [
       "{'backoff': 0,\n",
       " 'has_more': False,\n",
       " 'page': 1,\n",
       " 'quota_max': 300,\n",
       " 'quota_remaining': 300,\n",
       " 'total': 0,\n",
       " 'items': [{'owner': {'reputation': 22254,\n",
       "    'user_id': 758,\n",
       "    'user_type': 'registered',\n",
       "    'accept_rate': 77,\n",
       "    'profile_image': 'https://www.gravatar.com/avatar/0b4adc19284ed0751844d610555dc6b2?s=128&d=identicon&r=PG',\n",
       "    'display_name': 'Mark Renouf',\n",
       "    'link': 'https://stackoverflow.com/users/758/mark-renouf'},\n",
       "   'is_accepted': False,\n",
       "   'score': 0,\n",
       "   'last_activity_date': 1218291583,\n",
       "   'creation_date': 1218291583,\n",
       "   'answer_id': 6784,\n",
       "   'question_id': 6778}]}"
      ]
     },
     "execution_count": 11,
     "metadata": {},
     "output_type": "execute_result"
    }
   ],
   "source": [
    "# your code here\n",
    "ans = SITE.fetch('answers', sort='votes', ids=[6473, 6784])\n",
    "ans"
   ]
  }
 ],
 "metadata": {
  "kernelspec": {
   "display_name": "Python 3",
   "language": "python",
   "name": "python3"
  },
  "language_info": {
   "codemirror_mode": {
    "name": "ipython",
    "version": 3
   },
   "file_extension": ".py",
   "mimetype": "text/x-python",
   "name": "python",
   "nbconvert_exporter": "python",
   "pygments_lexer": "ipython3",
   "version": "3.7.3"
  }
 },
 "nbformat": 4,
 "nbformat_minor": 2
}
